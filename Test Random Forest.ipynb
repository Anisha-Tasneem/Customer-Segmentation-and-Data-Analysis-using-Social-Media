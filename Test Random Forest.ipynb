{
  "nbformat": 4,
  "nbformat_minor": 0,
  "metadata": {
    "colab": {
      "provenance": [],
      "mount_file_id": "1QrCaCzG9zPNGfBnBWbuX4zUx1FIvV7dQ",
      "authorship_tag": "ABX9TyO2JzvlneG/CXFOo8noido3",
      "include_colab_link": true
    },
    "kernelspec": {
      "name": "python3",
      "display_name": "Python 3"
    },
    "language_info": {
      "name": "python"
    }
  },
  "cells": [
    {
      "cell_type": "markdown",
      "metadata": {
        "id": "view-in-github",
        "colab_type": "text"
      },
      "source": [
        "<a href=\"https://colab.research.google.com/github/Anisha-Tasneem/Customer-Segmentation-and-Data-Analysis-using-Social-Media/blob/main/Test%20Random%20Forest.ipynb\" target=\"_parent\"><img src=\"https://colab.research.google.com/assets/colab-badge.svg\" alt=\"Open In Colab\"/></a>"
      ]
    },
    {
      "cell_type": "code",
      "execution_count": 2,
      "metadata": {
        "colab": {
          "base_uri": "https://localhost:8080/"
        },
        "id": "GbhZ46Gwp_DV",
        "outputId": "e9687b88-b375-4379-920a-1f3922ce3b2f"
      },
      "outputs": [
        {
          "output_type": "stream",
          "name": "stdout",
          "text": [
            "Shape of X_train: (3998, 5)\n",
            "Shape of X_test: (1000, 5)\n",
            "Shape of y_train: (3998,)\n",
            "Shape of y_test: (1000,)\n"
          ]
        }
      ],
      "source": [
        "import pandas as pd\n",
        "from sklearn.model_selection import train_test_split\n",
        "from sklearn.preprocessing import LabelEncoder\n",
        "\n",
        "# Load the dataset\n",
        "data = pd.read_csv('/content/drive/MyDrive/499B-datasets/Dataset.csv')  # Replace 'your_dataset.csv' with your actual dataset file path\n",
        "\n",
        "# Drop any rows with missing values\n",
        "data.dropna(inplace=True)\n",
        "\n",
        "# Encode categorical variables\n",
        "label_encoders = {}\n",
        "categorical_columns = ['Gender', 'City Code', 'Product Code']\n",
        "for col in categorical_columns:\n",
        "    label_encoders[col] = LabelEncoder()\n",
        "    data[col] = label_encoders[col].fit_transform(data[col])\n",
        "\n",
        "# Split the data into features and target variable\n",
        "X = data.drop(['Customer ID', 'Customer Value'], axis=1)  # Features\n",
        "y = data['Customer Value']  # Target variable\n",
        "\n",
        "# Split data into train and test sets\n",
        "X_train, X_test, y_train, y_test = train_test_split(X, y, test_size=0.2, random_state=42)\n",
        "\n",
        "# Check the shape of the datasets\n",
        "print(\"Shape of X_train:\", X_train.shape)\n",
        "print(\"Shape of X_test:\", X_test.shape)\n",
        "print(\"Shape of y_train:\", y_train.shape)\n",
        "print(\"Shape of y_test:\", y_test.shape)"
      ]
    },
    {
      "cell_type": "code",
      "source": [
        "import numpy as np\n",
        "from sklearn.model_selection import train_test_split\n",
        "from sklearn.ensemble import RandomForestClassifier\n",
        "from sklearn.metrics import accuracy_score\n",
        "from sklearn.preprocessing import OneHotEncoder\n",
        "\n",
        "# Extracting the categorical columns\n",
        "categorical_cols = ['Gender', 'City Code']\n",
        "\n",
        "# One-hot encode categorical variables\n",
        "encoder = OneHotEncoder(drop=\"first\", sparse=False)\n",
        "X_encoded = encoder.fit_transform(data[categorical_cols])\n",
        "\n",
        "# Dropping columns not suitable for modeling\n",
        "data_processed = data.drop(columns=['Gender', 'City Code', 'Product Code'])\n",
        "\n",
        "#label encoding\n",
        "from sklearn.preprocessing import LabelEncoder\n",
        "label_encoder = LabelEncoder()\n",
        "y_encoded = label_encoder.fit_transform(data_processed['Customer Value'])\n",
        "\n",
        "#Droping original 'Customer Value' column from the processed data\n",
        "data_processed.drop(columns=['Customer Value'], inplace=True)\n",
        "\n",
        "#Concatenating encoded categorical variables with remaining numerical variables\n",
        "X = np.concatenate((data_processed.values, X_encoded), axis=1)\n",
        "y = y_encoded\n",
        "\n",
        "#Splitting the dataset into training and testing sets\n",
        "X_train, X_test, y_train, y_test = train_test_split(X, y, test_size=0.20, random_state=42)\n",
        "\n",
        "# Initialize the random forest classifier\n",
        "rf_classifier = RandomForestClassifier(n_estimators=100, random_state=42)\n",
        "\n",
        "#Training random forest model\n",
        "history = rf_classifier.fit(X_train, y_train)\n",
        "\n",
        "#Predicting on the test set\n",
        "y_pred = rf_classifier.predict(X_test)\n",
        "\n",
        "accuracy = accuracy_score(y_test, y_pred)\n",
        "print(\"Accuracy:\", accuracy)"
      ],
      "metadata": {
        "colab": {
          "base_uri": "https://localhost:8080/"
        },
        "id": "OFLZQRgQrn7m",
        "outputId": "b92be0c9-34b1-4007-c8f5-784e94f32c4c"
      },
      "execution_count": 3,
      "outputs": [
        {
          "output_type": "stream",
          "name": "stderr",
          "text": [
            "/usr/local/lib/python3.10/dist-packages/sklearn/preprocessing/_encoders.py:868: FutureWarning: `sparse` was renamed to `sparse_output` in version 1.2 and will be removed in 1.4. `sparse_output` is ignored unless you leave `sparse` to its default value.\n",
            "  warnings.warn(\n"
          ]
        },
        {
          "output_type": "stream",
          "name": "stdout",
          "text": [
            "Accuracy: 0.618\n"
          ]
        }
      ]
    },
    {
      "cell_type": "code",
      "source": [
        "from sklearn.metrics import classification_report\n",
        "\n",
        "# Generate classification report\n",
        "report = classification_report(y_test, y_pred)\n",
        "\n",
        "# Print the classification report\n",
        "print(report)"
      ],
      "metadata": {
        "colab": {
          "base_uri": "https://localhost:8080/"
        },
        "id": "CU_zA-gv8Ycx",
        "outputId": "21b1fb19-ccbe-446e-d217-de3ecdd4d9db"
      },
      "execution_count": 4,
      "outputs": [
        {
          "output_type": "stream",
          "name": "stdout",
          "text": [
            "              precision    recall  f1-score   support\n",
            "\n",
            "           0       0.68      0.83      0.75       688\n",
            "           1       0.29      0.15      0.20       312\n",
            "\n",
            "    accuracy                           0.62      1000\n",
            "   macro avg       0.48      0.49      0.47      1000\n",
            "weighted avg       0.56      0.62      0.58      1000\n",
            "\n"
          ]
        }
      ]
    },
    {
      "cell_type": "code",
      "source": [
        "import matplotlib.pyplot as plt\n",
        "import seaborn as sns\n",
        "from sklearn.metrics import confusion_matrix\n",
        "\n",
        "# Generate confusion matrix\n",
        "cm = confusion_matrix(y_test, y_pred)\n",
        "\n",
        "# Plot confusion matrix\n",
        "plt.figure(figsize=(8, 6))\n",
        "sns.heatmap(cm, annot=True, fmt='d', cmap='Blues', cbar=False)\n",
        "plt.xlabel('Predicted Labels')\n",
        "plt.ylabel('True Labels')\n",
        "plt.title('Confusion Matrix')\n",
        "plt.show()"
      ],
      "metadata": {
        "colab": {
          "base_uri": "https://localhost:8080/",
          "height": 564
        },
        "id": "Q29ZAnlh8UBo",
        "outputId": "bf670fe1-5308-4b79-d197-f975fbca402d"
      },
      "execution_count": 5,
      "outputs": [
        {
          "output_type": "display_data",
          "data": {
            "text/plain": [
              "<Figure size 800x600 with 1 Axes>"
            ],
            "image/png": "[encoded data removed]"
          },
          "metadata": {}
        }
      ]
    },
    {
      "cell_type": "code",
      "source": [
        "import numpy as np\n",
        "import matplotlib.pyplot as plt\n",
        "from sklearn.model_selection import learning_curve\n",
        "from sklearn.ensemble import RandomForestRegressor\n",
        "\n",
        "\n",
        "def plot_learning_curve(estimator, X, y, train_sizes, cv=5):\n",
        "    train_sizes, train_scores, validation_scores = learning_curve(\n",
        "        estimator, X, y, train_sizes=train_sizes, cv=cv, scoring='neg_mean_squared_error')\n",
        "\n",
        "    train_scores_mean = -np.mean(train_scores, axis=1)\n",
        "    validation_scores_mean = -np.mean(validation_scores, axis=1)\n",
        "\n",
        "    plt.figure(figsize=(10, 6))\n",
        "    plt.plot(train_sizes, train_scores_mean, label='Training error')\n",
        "    plt.plot(train_sizes, validation_scores_mean, label='Validation error')\n",
        "\n",
        "    plt.xlabel('Training Set Size')\n",
        "    plt.ylabel('Mean Squared Error')\n",
        "    plt.title('Learning Curve')\n",
        "    plt.legend()\n",
        "    plt.grid(True)\n",
        "    plt.show()\n",
        "\n",
        "# Define different training set sizes\n",
        "train_sizes = [100, 500, 1000, 1500, 2000, 2500, 3000]\n",
        "\n",
        "# Initialize Random Forest Regressor\n",
        "rf_regressor = RandomForestRegressor(random_state=42)\n",
        "\n",
        "# Plot the learning curve\n",
        "plot_learning_curve(rf_regressor, X_train, y_train, train_sizes)"
      ],
      "metadata": {
        "colab": {
          "base_uri": "https://localhost:8080/",
          "height": 564
        },
        "id": "s4nj8x-b8vY1",
        "outputId": "75d05973-bc5a-40cc-9495-7e5e6ca5a588"
      },
      "execution_count": 6,
      "outputs": [
        {
          "output_type": "display_data",
          "data": {
            "text/plain": [
              "<Figure size 1000x600 with 1 Axes>"
            ],
            "image/png": "[encoded data removed]"
          },
          "metadata": {}
        }
      ]
    },
    {
      "cell_type": "code",
      "source": [
        "from sklearn.ensemble import RandomForestClassifier\n",
        "\n",
        "# Create a Random Forest classifier\n",
        "model = RandomForestClassifier()\n",
        "\n",
        "# Fit the model to some data\n",
        "model.fit(X_train, y_train)\n",
        "\n",
        "# Get the model summary\n",
        "model_summary = model.get_params()\n",
        "\n",
        "# Print the model summary\n",
        "print(model_summary)"
      ],
      "metadata": {
        "colab": {
          "base_uri": "https://localhost:8080/"
        },
        "id": "hw6yQoeR-nbS",
        "outputId": "b127aa98-c33f-4281-cd8e-dac744807f2e"
      },
      "execution_count": 18,
      "outputs": [
        {
          "output_type": "stream",
          "name": "stdout",
          "text": [
            "{'bootstrap': True, 'ccp_alpha': 0.0, 'class_weight': None, 'criterion': 'gini', 'max_depth': None, 'max_features': 'sqrt', 'max_leaf_nodes': None, 'max_samples': None, 'min_impurity_decrease': 0.0, 'min_samples_leaf': 1, 'min_samples_split': 2, 'min_weight_fraction_leaf': 0.0, 'n_estimators': 100, 'n_jobs': None, 'oob_score': False, 'random_state': None, 'verbose': 0, 'warm_start': False}\n"
          ]
        }
      ]
    },
    {
      "cell_type": "code",
      "source": [
        "import numpy as np\n",
        "import pandas as pd\n",
        "from sklearn.model_selection import train_test_split\n",
        "from sklearn.ensemble import RandomForestClassifier\n",
        "from sklearn.metrics import accuracy_score, confusion_matrix, classification_report, roc_auc_score, roc_curve\n",
        "from sklearn.preprocessing import OneHotEncoder, LabelEncoder\n",
        "import matplotlib.pyplot as plt\n",
        "\n",
        "# Assuming the data preprocessing and model training steps are the same as before\n",
        "\n",
        "# Define the categorical columns\n",
        "categorical_cols = ['Gender', 'City Code']\n",
        "\n",
        "# Modify the encoder to handle unknown categories\n",
        "encoder = OneHotEncoder(drop=\"first\", sparse=False, handle_unknown='ignore')\n",
        "\n",
        "# One-hot encode categorical variables\n",
        "X_encoded = encoder.fit_transform(data[categorical_cols])\n",
        "\n",
        "# Save the column names of the encoded features\n",
        "encoded_feature_names = encoder.get_feature_names_out(categorical_cols)\n",
        "\n",
        "# Dropping columns not suitable for modeling\n",
        "data_processed = data.drop(columns=['Gender', 'City Code', 'Product Code'])\n",
        "\n",
        "# Label encoding\n",
        "label_encoder = LabelEncoder()\n",
        "y_encoded = label_encoder.fit_transform(data_processed['Customer Value'])\n",
        "\n",
        "# Dropping original 'Customer Value' column from the processed data\n",
        "data_processed.drop(columns=['Customer Value'], inplace=True)\n",
        "\n",
        "# Concatenating encoded categorical variables with remaining numerical variables\n",
        "X = np.concatenate((data_processed.values, X_encoded), axis=1)\n",
        "y = y_encoded\n",
        "\n",
        "# Store the final column names used for training\n",
        "final_feature_names = list(data_processed.columns) + list(encoded_feature_names)\n",
        "\n",
        "# Splitting the dataset into training and testing sets\n",
        "X_train, X_test, y_train, y_test = train_test_split(X, y, test_size=0.20, random_state=42)\n",
        "\n",
        "# Initialize the random forest classifier\n",
        "rf_classifier = RandomForestClassifier(n_estimators=100, random_state=42)\n",
        "\n",
        "# Training random forest model\n",
        "rf_classifier.fit(X_train, y_train)\n",
        "\n",
        "# Predicting on the test set\n",
        "y_pred = rf_classifier.predict(X_test)\n",
        "\n",
        "# Evaluate and print the accuracy\n",
        "accuracy = accuracy_score(y_test, y_pred)\n",
        "print(\"Accuracy:\", accuracy)\n",
        "\n",
        "\n",
        "# Predict probabilities for the test set\n",
        "y_prob = rf_classifier.predict_proba(X_test)[:, 1]\n",
        "\n",
        "\n",
        "# Define a preprocessing function for new input data\n",
        "def preprocess_input(new_data, encoder, final_feature_names, categorical_cols):\n",
        "    # Encode the categorical columns using the existing encoder\n",
        "    X_encoded = encoder.transform(new_data[categorical_cols])\n",
        "\n",
        "    # Convert encoded array back to DataFrame\n",
        "    X_encoded_df = pd.DataFrame(X_encoded, columns=encoder.get_feature_names_out(categorical_cols))\n",
        "\n",
        "    # Drop the original categorical columns and concatenate encoded ones\n",
        "    new_data_processed = new_data.drop(columns=categorical_cols + ['Product Code'])\n",
        "\n",
        "    # Concatenate the processed numerical data with the encoded categorical data\n",
        "    X_new = pd.concat([new_data_processed.reset_index(drop=True), X_encoded_df.reset_index(drop=True)], axis=1)\n",
        "\n",
        "    # Ensure the columns match the training data\n",
        "    X_new = X_new.reindex(columns=final_feature_names, fill_value=0)\n",
        "\n",
        "    return X_new.values\n",
        "\n",
        "# Define a prediction function\n",
        "def predict_customer_value(new_data, encoder, model, final_feature_names, categorical_cols):\n",
        "    X_new = preprocess_input(new_data, encoder, final_feature_names, categorical_cols)\n",
        "    predictions = model.predict(X_new)\n",
        "    predicted_labels = label_encoder.inverse_transform(predictions)\n",
        "    return predicted_labels\n",
        "\n",
        "\n",
        "# Example of new input data\n",
        "new_data = pd.DataFrame({\n",
        "    'Customer ID': [1],       # Replace with actual new data\n",
        "    'Age': [19],              # Replace with actual new data\n",
        "    'Gender': ['Female'],     # Replace with actual new data\n",
        "    'City Code': ['3'],       # Replace with actual new data\n",
        "    'Product Code': ['9'],    # Replace with actual new data\n",
        "    'Total Bill (Taka)': ['9120']  # Replace with actual new data\n",
        "})\n",
        "\n",
        "# Drop 'Customer ID' column from the new input data\n",
        "new_data.drop(columns=['Customer ID'], inplace=True)\n",
        "\n",
        "# Make prediction on new input data\n",
        "predicted_value = predict_customer_value(new_data, encoder, rf_classifier, final_feature_names, categorical_cols)\n",
        "\n",
        "\n",
        "# Print input Total Bill (Taka) and output Customer Value\n",
        "print(\"Input Total Bill (Taka):\", new_data['Total Bill (Taka)'].values[0])\n",
        "print(\"Output Customer Value:\", predicted_value[0])  # Assuming predicted_value is an array"
      ],
      "metadata": {
        "colab": {
          "base_uri": "https://localhost:8080/"
        },
        "id": "Y_DSBd8J98Me",
        "outputId": "2cacda59-5d43-4aa6-9076-2f5d40363131"
      },
      "execution_count": 21,
      "outputs": [
        {
          "output_type": "stream",
          "name": "stderr",
          "text": [
            "/usr/local/lib/python3.10/dist-packages/sklearn/preprocessing/_encoders.py:868: FutureWarning: `sparse` was renamed to `sparse_output` in version 1.2 and will be removed in 1.4. `sparse_output` is ignored unless you leave `sparse` to its default value.\n",
            "  warnings.warn(\n"
          ]
        },
        {
          "output_type": "stream",
          "name": "stdout",
          "text": [
            "Accuracy: 0.618\n",
            "Input Total Bill (Taka): 9120\n",
            "Output Customer Value: 1\n"
          ]
        },
        {
          "output_type": "stream",
          "name": "stderr",
          "text": [
            "/usr/local/lib/python3.10/dist-packages/sklearn/preprocessing/_encoders.py:202: UserWarning: Found unknown categories in columns [0, 1] during transform. These unknown categories will be encoded as all zeros\n",
            "  warnings.warn(\n"
          ]
        }
      ]
    },
    {
      "cell_type": "code",
      "source": [
        "# Define a prediction function with printing \"High\" or \"Low\"\n",
        "def predict_customer_value_with_label(new_data, encoder, model, final_feature_names, categorical_cols):\n",
        "    X_new = preprocess_input(new_data, encoder, final_feature_names, categorical_cols)\n",
        "    predictions = model.predict(X_new)\n",
        "    if predictions[0] == 1:\n",
        "        print(\"Output Customer Value: High\")\n",
        "    else:\n",
        "        print(\"Output Customer Value: Low\")\n",
        "\n",
        "# Example of new input data\n",
        "new_data = pd.DataFrame({\n",
        "    'Customer ID': [1],       # Replace with actual new data\n",
        "    'Age': [19],              # Replace with actual new data\n",
        "    'Gender': ['Female'],     # Replace with actual new data\n",
        "    'City Code': ['3'],       # Replace with actual new data\n",
        "    'Product Code': ['9'],    # Replace with actual new data\n",
        "    'Total Bill (Taka)': ['9120']  # Replace with actual new data\n",
        "})\n",
        "\n",
        "# Drop 'Customer ID' column from the new input data\n",
        "new_data.drop(columns=['Customer ID'], inplace=True)\n",
        "\n",
        "# Make prediction on new input data with label printing\n",
        "predict_customer_value_with_label(new_data, encoder, rf_classifier, final_feature_names, categorical_cols)"
      ],
      "metadata": {
        "colab": {
          "base_uri": "https://localhost:8080/"
        },
        "id": "bP8Qni_H1RWf",
        "outputId": "938b9920-6222-4c89-f1ea-61dd91475d27"
      },
      "execution_count": 22,
      "outputs": [
        {
          "output_type": "stream",
          "name": "stdout",
          "text": [
            "Output Customer Value: High\n"
          ]
        },
        {
          "output_type": "stream",
          "name": "stderr",
          "text": [
            "/usr/local/lib/python3.10/dist-packages/sklearn/preprocessing/_encoders.py:202: UserWarning: Found unknown categories in columns [0, 1] during transform. These unknown categories will be encoded as all zeros\n",
            "  warnings.warn(\n"
          ]
        }
      ]
    },
    {
      "cell_type": "code",
      "source": [
        "import numpy as np\n",
        "import pandas as pd\n",
        "from sklearn.model_selection import train_test_split\n",
        "from sklearn.ensemble import RandomForestClassifier\n",
        "from sklearn.metrics import accuracy_score\n",
        "from sklearn.preprocessing import OneHotEncoder, LabelEncoder\n",
        "import matplotlib.pyplot as plt\n",
        "\n",
        "# Assuming the data preprocessing and model training steps are the same as before\n",
        "\n",
        "# Define the categorical columns\n",
        "categorical_cols = ['Gender', 'City Code']\n",
        "\n",
        "# Modify the encoder to handle unknown categories\n",
        "encoder = OneHotEncoder(drop=\"first\", sparse=False, handle_unknown='ignore')\n",
        "\n",
        "# One-hot encode categorical variables\n",
        "X_encoded = encoder.fit_transform(data[categorical_cols])\n",
        "\n",
        "# Save the column names of the encoded features\n",
        "encoded_feature_names = encoder.get_feature_names_out(categorical_cols)\n",
        "\n",
        "# Dropping columns not suitable for modeling\n",
        "data_processed = data.drop(columns=['Gender', 'City Code', 'Product Code'])\n",
        "\n",
        "# Label encoding\n",
        "label_encoder = LabelEncoder()\n",
        "y_encoded = label_encoder.fit_transform(data_processed['Customer Value'])\n",
        "\n",
        "# Dropping original 'Customer Value' column from the processed data\n",
        "data_processed.drop(columns=['Customer Value'], inplace=True)\n",
        "\n",
        "# Concatenating encoded categorical variables with remaining numerical variables\n",
        "X = np.concatenate((data_processed.values, X_encoded), axis=1)\n",
        "y = y_encoded\n",
        "\n",
        "# Store the final column names used for training\n",
        "final_feature_names = list(data_processed.columns) + list(encoded_feature_names)\n",
        "\n",
        "# Splitting the dataset into training and testing sets\n",
        "X_train, X_test, y_train, y_test = train_test_split(X, y, test_size=0.20, random_state=42)\n",
        "\n",
        "# Initialize the random forest classifier\n",
        "rf_classifier = RandomForestClassifier(n_estimators=100, random_state=42)\n",
        "\n",
        "# Training random forest model\n",
        "rf_classifier.fit(X_train, y_train)\n",
        "\n",
        "# Predicting on the test set\n",
        "y_pred = rf_classifier.predict(X_test)\n",
        "\n",
        "# Evaluate and print the accuracy\n",
        "accuracy = accuracy_score(y_test, y_pred)\n",
        "print(\"Accuracy:\", accuracy)\n",
        "\n",
        "# Define a preprocessing function for new input data\n",
        "def preprocess_input(new_data, encoder, final_feature_names, categorical_cols):\n",
        "    # Encode the categorical columns using the existing encoder\n",
        "    X_encoded = encoder.transform(new_data[categorical_cols])\n",
        "\n",
        "    # Convert encoded array back to DataFrame\n",
        "    X_encoded_df = pd.DataFrame(X_encoded, columns=encoder.get_feature_names_out(categorical_cols))\n",
        "\n",
        "    # Drop the original categorical columns and concatenate encoded ones\n",
        "    new_data_processed = new_data.drop(columns=categorical_cols + ['Product Code'])\n",
        "\n",
        "    # Concatenate the processed numerical data with the encoded categorical data\n",
        "    X_new = pd.concat([new_data_processed.reset_index(drop=True), X_encoded_df.reset_index(drop=True)], axis=1)\n",
        "\n",
        "    # Ensure the columns match the training data\n",
        "    X_new = X_new.reindex(columns=final_feature_names, fill_value=0)\n",
        "\n",
        "    return X_new.values\n",
        "\n",
        "# Define a prediction function with labeled output\n",
        "def predict_customer_value_with_label(new_data, encoder, model, final_feature_names, categorical_cols):\n",
        "    X_new = preprocess_input(new_data, encoder, final_feature_names, categorical_cols)\n",
        "    predictions = model.predict(X_new)\n",
        "    predicted_value = predictions[0]\n",
        "    predicted_label = \"High\" if predicted_value == 1 else \"Low\"\n",
        "\n",
        "    # Print input Total Bill (Taka) and output Customer Value\n",
        "    print(\"Input Total Bill (Taka):\", new_data['Total Bill (Taka)'].values[0])\n",
        "    print(\"Output Customer Value:\", predicted_value, \"=\", predicted_label)\n",
        "\n",
        "# Example of new input data\n",
        "new_data = pd.DataFrame({\n",
        "    'Customer ID': [1],       # Replace with actual new data\n",
        "    'Age': [19],              # Replace with actual new data\n",
        "    'Gender': ['Female'],     # Replace with actual new data\n",
        "    'City Code': ['3'],       # Replace with actual new data\n",
        "    'Product Code': ['9'],    # Replace with actual new data\n",
        "    'Total Bill (Taka)': ['9120']  # Replace with actual new data\n",
        "})\n",
        "\n",
        "# Drop 'Customer ID' column from the new input data\n",
        "new_data.drop(columns=['Customer ID'], inplace=True)\n",
        "\n",
        "# Make prediction on new input data with labeled output\n",
        "predict_customer_value_with_label(new_data, encoder, rf_classifier, final_feature_names, categorical_cols)"
      ],
      "metadata": {
        "colab": {
          "base_uri": "https://localhost:8080/"
        },
        "id": "EnRsHTgXW7dV",
        "outputId": "0faf2663-f50c-4b8f-b72f-17cd95c657b8"
      },
      "execution_count": 24,
      "outputs": [
        {
          "output_type": "stream",
          "name": "stderr",
          "text": [
            "/usr/local/lib/python3.10/dist-packages/sklearn/preprocessing/_encoders.py:868: FutureWarning: `sparse` was renamed to `sparse_output` in version 1.2 and will be removed in 1.4. `sparse_output` is ignored unless you leave `sparse` to its default value.\n",
            "  warnings.warn(\n"
          ]
        },
        {
          "output_type": "stream",
          "name": "stdout",
          "text": [
            "Accuracy: 0.618\n",
            "Input Total Bill (Taka): 9120\n",
            "Output Customer Value: 1 = High\n"
          ]
        },
        {
          "output_type": "stream",
          "name": "stderr",
          "text": [
            "/usr/local/lib/python3.10/dist-packages/sklearn/preprocessing/_encoders.py:202: UserWarning: Found unknown categories in columns [0, 1] during transform. These unknown categories will be encoded as all zeros\n",
            "  warnings.warn(\n"
          ]
        }
      ]
    }
  ]
}